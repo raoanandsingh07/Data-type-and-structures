{
  "nbformat": 4,
  "nbformat_minor": 0,
  "metadata": {
    "colab": {
      "provenance": []
    },
    "kernelspec": {
      "name": "python3",
      "display_name": "Python 3"
    },
    "language_info": {
      "name": "python"
    }
  },
  "cells": [
    {
      "cell_type": "markdown",
      "source": [
        "1. What are data structures, and why are they important?\n",
        "- Data structures are specialized formats for organizing, storing, and accessing collections of data. They provide efficient ways to manage information based on its characteristics and intended use.\n",
        "- Think of them as containers that hold your data and determine how you can interact with it. Different containers are better suited for different types of items.\n",
        "- they are important because:\n",
        "\n",
        " - Choosing the right data structure significantly impacts the efficiency and performance of your program.\n",
        " - Well-chosen data structures can:\n",
        " - Simplify data manipulation (adding, removing, modifying elements)\n",
        " - Optimize searching and sorting operations.\n",
        " - Conserve memory usage.\n",
        "\n",
        "2. Explain the difference between mutable and immutable data types with examples.\n",
        " - Mutable types can be changed after creation. Example: list, dict, set\n",
        " - Immutable types cannot be changed after creation. Example: int, str, tuple.\n",
        "\n",
        "3. What are the main differences between lists and tuples in Python?\n",
        " - lists are mutable and tuples are immutable\n",
        " - lists having dynamic data whcih can be change accordingly and tuples are having fixed which cant be changed.\n",
        "\n",
        "4. Describe how dictionaries store data.\n",
        " - Dictionaries store data as key-value pairs.\n",
        "\n",
        "5. Why might you use a set instead of a list in Python?\n",
        "- Sets are useful when:\n",
        " - You need unique elements (they automatically remove duplicates).\n",
        " - You want faster membership checks (in operator is faster in sets than in lists).\n",
        "\n",
        "6. What is a string in Python, and how is it different from a list?\n",
        " - A string is an immutable sequence of characters. Unlike lists, strings:\n",
        " - Can’t be modified.\n",
        " - Only store characters, while lists can store various data types.\n",
        "\n",
        "7. How do tuples ensure data integrity in Python?\n",
        "- Tuples are immutable, meaning their contents cannot be altered. This makes them ideal for:\n",
        " - Ensuring fixed values.\n",
        " - Being used as dictionary keys.\n",
        "\n",
        "8. What is a hash table, and how does it relate to dictionaries in Python?\n",
        "- A hash table is a data structure that maps keys to values using a hash function. Python dictionaries are implemented using hash tables, allowing for constant-time average lookup.\n",
        "\n",
        "9. Can lists contain different data types in Python?\n",
        "- Yes. Lists in Python can store mixed data types, such as integers, strings, and even other lists.\n",
        "\n",
        "10. Explain why strings are immutable in Python.\n",
        "- Strings are immutable to:\n",
        " - Enhance security (safe to share).\n",
        " - Improve performance through memory optimization.\n",
        " - Allow use as keys in dictionaries (must be hashable).\n",
        "\n",
        "11. What advantages do dictionaries offer over lists for certain tasks?\n",
        " - Faster lookups using keys.\n",
        " - Better for mapping relationships (e.g., student ID to name).\n",
        " - More efficient for search-heavy operations.\n",
        "\n",
        "12. Describe a scenario where using a tuple would be preferable over a list.\n",
        "- Use a tuple when storing:\n",
        " - Coordinates (x, y)\n",
        " - Function return values\n",
        " - Configuration constants.\n",
        "\n",
        "13. How do sets handle duplicate values in Python?\n",
        "- Sets automatically eliminate duplicates. Adding a duplicate value has no effect.\n",
        "\n",
        "14. How does the in keyword work differently for lists and dictionaries?\n",
        "- In lists, in checks if a value exists.\n",
        "- In dictionaries, in checks for the key only, not the value.\n",
        "\n",
        "15. Can you modify the elements of a tuple? Explain why or why not.\n",
        "- No, tuples are immutable. Once created, their elements cannot be changed, added, or removed. This ensures consistency and enables safe use as keys.\n",
        "\n",
        "16. What is a nested dictionary, and give an example of its use case.\n",
        "- A nested dictionary is a dictionary where values are themselves dictionaries.\n",
        "- Example use case: Storing student data by ID and enployee data by employee ID.\n",
        "\n",
        "17. Describe the time complexity of accessing elements in a dictionary.\n",
        " - Average case: O(1) (constant time)\n",
        " - Worst case: O(n) (rare, due to hash collisions)\n",
        "\n",
        "18. In what situations are lists preferred over dictionaries?\n",
        "- Use lists when:\n",
        " - Order matters.\n",
        " - we only need values, not key-value pairs.\n",
        " - Index-based access is required.\n",
        "\n",
        "19. Why are dictionaries considered unordered, and how does that affect data retrieval?\n",
        "- dictionaries are unordered. but from Python 3.7 version, dictionaries retain the order of insertion.\n",
        "- This means that if you iterate over a dictionary, the items will be returned in the order they were added.\n",
        "\n",
        "20. Explain the difference between a list and a dictionary in terms of data retrieval.\n",
        "- List: Access by index (position). example: my_list[0]\n",
        "- Dictionary: Access by key (identifier). example: my_dict[\"key\"]\n"
      ],
      "metadata": {
        "id": "QFLPK4bw-19f"
      }
    },
    {
      "cell_type": "markdown",
      "source": [
        "#practical questions"
      ],
      "metadata": {
        "id": "33GN3WPxV1fp"
      }
    },
    {
      "cell_type": "code",
      "source": [
        "#1 Write a code to create a string with your name and print it.\n",
        "name = \"Rao Anand Singh\"\n",
        "print(\"my name is\", name)"
      ],
      "metadata": {
        "colab": {
          "base_uri": "https://localhost:8080/"
        },
        "id": "1TJSDt-8V0ZM",
        "outputId": "94e70551-76f6-41f9-d630-4591df893c11"
      },
      "execution_count": 13,
      "outputs": [
        {
          "output_type": "stream",
          "name": "stdout",
          "text": [
            "my name is Rao Anand Singh\n"
          ]
        }
      ]
    },
    {
      "cell_type": "code",
      "source": [
        "#2 Write a code to find the length of the string \"Hello World\n",
        "a = \"hello world\"\n",
        "len(a)"
      ],
      "metadata": {
        "colab": {
          "base_uri": "https://localhost:8080/"
        },
        "id": "HhkuxY75VnRl",
        "outputId": "d4f4fc8d-5a08-41a9-9d10-faf5e4490432"
      },
      "execution_count": 14,
      "outputs": [
        {
          "output_type": "execute_result",
          "data": {
            "text/plain": [
              "11"
            ]
          },
          "metadata": {},
          "execution_count": 14
        }
      ]
    },
    {
      "cell_type": "code",
      "source": [
        "#3 Write a code to slice the first 3 characters from the string \"Python Programming.\n",
        "b = \"python programming\"\n",
        "b[0:3]"
      ],
      "metadata": {
        "colab": {
          "base_uri": "https://localhost:8080/",
          "height": 35
        },
        "id": "KNmNS7G6W5BO",
        "outputId": "e0089bef-7bb9-4765-c9b4-503b626a771a"
      },
      "execution_count": 15,
      "outputs": [
        {
          "output_type": "execute_result",
          "data": {
            "text/plain": [
              "'pyt'"
            ],
            "application/vnd.google.colaboratory.intrinsic+json": {
              "type": "string"
            }
          },
          "metadata": {},
          "execution_count": 15
        }
      ]
    },
    {
      "cell_type": "code",
      "source": [
        "#4 Write a code to convert the string \"hello\" to uppercase.\n",
        "text = \"hello\"\n",
        "text.upper()"
      ],
      "metadata": {
        "colab": {
          "base_uri": "https://localhost:8080/",
          "height": 35
        },
        "id": "R_DVWuQiXnZ_",
        "outputId": "ae4bf9dd-8be5-4916-eb83-81ee0c004f75"
      },
      "execution_count": 16,
      "outputs": [
        {
          "output_type": "execute_result",
          "data": {
            "text/plain": [
              "'HELLO'"
            ],
            "application/vnd.google.colaboratory.intrinsic+json": {
              "type": "string"
            }
          },
          "metadata": {},
          "execution_count": 16
        }
      ]
    },
    {
      "cell_type": "code",
      "source": [
        "#5 Write a code to replace the word \"apple\" with \"orange\" in the string \"I like apple\".\n",
        "string1 = \"I like apple\"\n",
        "string1.replace(\"apple\", \"orange\")"
      ],
      "metadata": {
        "colab": {
          "base_uri": "https://localhost:8080/",
          "height": 35
        },
        "id": "pVE4GZfuX5eX",
        "outputId": "9e6196d7-ba08-414a-b6c1-4ea5a842bf37"
      },
      "execution_count": 17,
      "outputs": [
        {
          "output_type": "execute_result",
          "data": {
            "text/plain": [
              "'I like orange'"
            ],
            "application/vnd.google.colaboratory.intrinsic+json": {
              "type": "string"
            }
          },
          "metadata": {},
          "execution_count": 17
        }
      ]
    },
    {
      "cell_type": "code",
      "source": [
        "from re import L\n",
        "#6 Write a code to create a list with numbers 1 to 5 and print it.\n",
        "number = [1, 2, 3, 4, 5]\n",
        "print(\"the list is \", number)"
      ],
      "metadata": {
        "colab": {
          "base_uri": "https://localhost:8080/"
        },
        "id": "g18sheZKYY7X",
        "outputId": "1e31e9fe-f65c-4a00-bb2e-8efaa45294dd"
      },
      "execution_count": 18,
      "outputs": [
        {
          "output_type": "stream",
          "name": "stdout",
          "text": [
            "the list is  [1, 2, 3, 4, 5]\n"
          ]
        }
      ]
    },
    {
      "cell_type": "code",
      "source": [
        "#7 Write a code to append the number 10 to the list [1, 2, 3, 4]\n",
        "number1 = [1, 2, 3, 4]\n",
        "number1.append(10)\n",
        "number1"
      ],
      "metadata": {
        "colab": {
          "base_uri": "https://localhost:8080/"
        },
        "id": "D4Qg1GyKZjOM",
        "outputId": "00792ade-79d3-4dad-97d2-cc1678de23b5"
      },
      "execution_count": 19,
      "outputs": [
        {
          "output_type": "execute_result",
          "data": {
            "text/plain": [
              "[1, 2, 3, 4, 10]"
            ]
          },
          "metadata": {},
          "execution_count": 19
        }
      ]
    },
    {
      "cell_type": "code",
      "source": [
        "#8 Write a code to remove the number 3 from the list [1, 2, 3, 4, 5]\n",
        "list2 = [1, 2, 3, 4, 5]\n",
        "list2.remove(3)\n",
        "list2"
      ],
      "metadata": {
        "colab": {
          "base_uri": "https://localhost:8080/"
        },
        "id": "jwhoSU_yaNQX",
        "outputId": "3f222434-07c8-4388-d3f0-795db5c492aa"
      },
      "execution_count": 20,
      "outputs": [
        {
          "output_type": "execute_result",
          "data": {
            "text/plain": [
              "[1, 2, 4, 5]"
            ]
          },
          "metadata": {},
          "execution_count": 20
        }
      ]
    },
    {
      "cell_type": "code",
      "source": [
        "#9 Write a code to access the second element in the list ['a', 'b', 'c', 'd']\n",
        "a = ['a', 'b', 'c', 'd']\n",
        "a[1]"
      ],
      "metadata": {
        "colab": {
          "base_uri": "https://localhost:8080/",
          "height": 35
        },
        "id": "kvoP-1vyahxo",
        "outputId": "57465ba9-c4db-4485-9182-f3727f93bf9b"
      },
      "execution_count": 21,
      "outputs": [
        {
          "output_type": "execute_result",
          "data": {
            "text/plain": [
              "'b'"
            ],
            "application/vnd.google.colaboratory.intrinsic+json": {
              "type": "string"
            }
          },
          "metadata": {},
          "execution_count": 21
        }
      ]
    },
    {
      "cell_type": "code",
      "source": [
        "#10 Write a code to reverse the list [10, 20, 30, 40, 50]\n",
        "l = [10, 20, 30, 40, 50]\n",
        "l[::-1]"
      ],
      "metadata": {
        "colab": {
          "base_uri": "https://localhost:8080/"
        },
        "id": "Cp_w2zhXayY_",
        "outputId": "4b56dd92-6ee5-4e61-fcb7-98d5957849b8"
      },
      "execution_count": 22,
      "outputs": [
        {
          "output_type": "execute_result",
          "data": {
            "text/plain": [
              "[50, 40, 30, 20, 10]"
            ]
          },
          "metadata": {},
          "execution_count": 22
        }
      ]
    },
    {
      "cell_type": "code",
      "source": [
        "#11 Write a code to create a tuple with the elements 100, 200, 300 and print it\n",
        "tuple1 = (100, 200, 300)\n",
        "print(tuple1)"
      ],
      "metadata": {
        "colab": {
          "base_uri": "https://localhost:8080/"
        },
        "id": "DJabtJ-0bDBN",
        "outputId": "31f40a86-23c6-432a-ffd7-85bc5ee341ac"
      },
      "execution_count": 23,
      "outputs": [
        {
          "output_type": "stream",
          "name": "stdout",
          "text": [
            "(100, 200, 300)\n"
          ]
        }
      ]
    },
    {
      "cell_type": "code",
      "source": [
        "#12 Write a code to access the second-to-last element of the tuple ('red', 'green', 'blue', 'yellow')\n",
        "color = ('red', 'green', 'blue', 'yellow')\n",
        "color[-2]\n"
      ],
      "metadata": {
        "colab": {
          "base_uri": "https://localhost:8080/",
          "height": 35
        },
        "id": "O-hB7lOwbRwX",
        "outputId": "51e8508a-f41e-4756-8c9f-f456a9351ea6"
      },
      "execution_count": 24,
      "outputs": [
        {
          "output_type": "execute_result",
          "data": {
            "text/plain": [
              "'blue'"
            ],
            "application/vnd.google.colaboratory.intrinsic+json": {
              "type": "string"
            }
          },
          "metadata": {},
          "execution_count": 24
        }
      ]
    },
    {
      "cell_type": "code",
      "source": [
        "#13 Write a code to find the minimum number in the tuple (10, 20, 5, 15)\n",
        "number1 = (10, 20, 5, 15)\n",
        "min(number1)"
      ],
      "metadata": {
        "colab": {
          "base_uri": "https://localhost:8080/"
        },
        "id": "p-BmHQHLbwKz",
        "outputId": "5a640fc5-fac8-44bc-f228-1b404e7ff4d8"
      },
      "execution_count": 25,
      "outputs": [
        {
          "output_type": "execute_result",
          "data": {
            "text/plain": [
              "5"
            ]
          },
          "metadata": {},
          "execution_count": 25
        }
      ]
    },
    {
      "cell_type": "code",
      "source": [
        "#14 Write a code to find the index of the element \"cat\" in the tuple ('dog', 'cat', 'rabbit').\n",
        "animals = ('dog', 'cat', 'rabbit')\n",
        "animals.index(\"cat\")"
      ],
      "metadata": {
        "colab": {
          "base_uri": "https://localhost:8080/"
        },
        "id": "tI_75Sb9cCUx",
        "outputId": "f548286a-1b42-4bf1-c230-f9d76dfd8e5d"
      },
      "execution_count": 26,
      "outputs": [
        {
          "output_type": "execute_result",
          "data": {
            "text/plain": [
              "1"
            ]
          },
          "metadata": {},
          "execution_count": 26
        }
      ]
    },
    {
      "cell_type": "code",
      "source": [
        "#15 Write a code to create a tuple containing three different fruits and check if \"kiwi\" is in it\n",
        "fruit = (\"apple\", \"kiwi\", \"banana\")\n",
        "\"kiwi\" in fruit"
      ],
      "metadata": {
        "colab": {
          "base_uri": "https://localhost:8080/"
        },
        "id": "wV7YXpbbcWke",
        "outputId": "75df4459-9165-47d3-a6b3-e722a765aec2"
      },
      "execution_count": 27,
      "outputs": [
        {
          "output_type": "execute_result",
          "data": {
            "text/plain": [
              "True"
            ]
          },
          "metadata": {},
          "execution_count": 27
        }
      ]
    },
    {
      "cell_type": "code",
      "source": [
        "#16 Write a code to create a set with the elements 'a', 'b', 'c' and print it\n",
        "s = {'a', 'b', 'c'}\n",
        "print(s)"
      ],
      "metadata": {
        "colab": {
          "base_uri": "https://localhost:8080/"
        },
        "id": "G90mgz5nc8cf",
        "outputId": "3e4c7f48-dda7-40fb-a795-66a686e3047c"
      },
      "execution_count": 28,
      "outputs": [
        {
          "output_type": "stream",
          "name": "stdout",
          "text": [
            "{'b', 'a', 'c'}\n"
          ]
        }
      ]
    },
    {
      "cell_type": "code",
      "source": [
        "#17 Write a code to clear all elements from the set {1, 2, 3, 4, 5}\n",
        "s = {1, 2, 3, 4, 5}\n",
        "s.clear()\n",
        "s"
      ],
      "metadata": {
        "colab": {
          "base_uri": "https://localhost:8080/"
        },
        "id": "lVOB7mcBdIlF",
        "outputId": "7f1f568e-1eef-4fe8-c8e0-0a2d9113c94e"
      },
      "execution_count": 29,
      "outputs": [
        {
          "output_type": "execute_result",
          "data": {
            "text/plain": [
              "set()"
            ]
          },
          "metadata": {},
          "execution_count": 29
        }
      ]
    },
    {
      "cell_type": "code",
      "source": [
        "#18 Write a code to remove the element 4 from the set {1, 2, 3, 4}.\n",
        "s1 = {1, 2, 3, 4}\n",
        "s1.discard(4)\n",
        "s1"
      ],
      "metadata": {
        "colab": {
          "base_uri": "https://localhost:8080/"
        },
        "id": "P9FyaLY9dbC2",
        "outputId": "74f08400-5873-43f5-c771-7359328d6be2"
      },
      "execution_count": 30,
      "outputs": [
        {
          "output_type": "execute_result",
          "data": {
            "text/plain": [
              "{1, 2, 3}"
            ]
          },
          "metadata": {},
          "execution_count": 30
        }
      ]
    },
    {
      "cell_type": "code",
      "source": [
        "#19 Write a code to find the union of two sets {1, 2, 3} and {3, 4, 5}\n",
        "set1 = {1, 2, 3}\n",
        "set2 = {3, 4, 5}\n",
        "set1 | set2"
      ],
      "metadata": {
        "colab": {
          "base_uri": "https://localhost:8080/"
        },
        "id": "wllrNmhBeCKA",
        "outputId": "dc5a8968-8373-47ae-9bc5-16adbea6465f"
      },
      "execution_count": 31,
      "outputs": [
        {
          "output_type": "execute_result",
          "data": {
            "text/plain": [
              "{1, 2, 3, 4, 5}"
            ]
          },
          "metadata": {},
          "execution_count": 31
        }
      ]
    },
    {
      "cell_type": "code",
      "source": [
        "#20 Write a code to find the intersection of two sets {1, 2, 3} and {2, 3, 4}\n",
        "set1 = {1, 2, 3}\n",
        "set2 = {2, 3, 4}\n",
        "set1 & set2"
      ],
      "metadata": {
        "colab": {
          "base_uri": "https://localhost:8080/"
        },
        "id": "BB_GGDxJeuR4",
        "outputId": "8d957c80-92ec-4d17-a329-031de668648f"
      },
      "execution_count": 32,
      "outputs": [
        {
          "output_type": "execute_result",
          "data": {
            "text/plain": [
              "{2, 3}"
            ]
          },
          "metadata": {},
          "execution_count": 32
        }
      ]
    },
    {
      "cell_type": "code",
      "source": [
        "#21 Write a code to create a dictionary with the keys \"name\", \"age\", and \"city\", and print it\n",
        "info1 = {\"name\":\"rao anand singh\", \"age\":21, \"city\":\"mumbai\"}\n",
        "print(info1)"
      ],
      "metadata": {
        "colab": {
          "base_uri": "https://localhost:8080/"
        },
        "id": "ZD-0Y_bifBHY",
        "outputId": "77efa126-9255-44e1-8100-1aa21e8bc26a"
      },
      "execution_count": 33,
      "outputs": [
        {
          "output_type": "stream",
          "name": "stdout",
          "text": [
            "{'name': 'rao anand singh', 'age': 21, 'city': 'mumbai'}\n"
          ]
        }
      ]
    },
    {
      "cell_type": "code",
      "source": [
        "#22 . Write a code to add a new key-value pair \"country\": \"USA\" to the dictionary {'name': 'John', 'age': 25}\n",
        "info2 = {'name': 'John', 'age': 25}\n",
        "info2[\"country\"] = \"USA\"\n",
        "info2"
      ],
      "metadata": {
        "colab": {
          "base_uri": "https://localhost:8080/"
        },
        "id": "lJk40Sh1fc9X",
        "outputId": "7f203fe9-5b0f-4536-b1c8-10867145aaf2"
      },
      "execution_count": 34,
      "outputs": [
        {
          "output_type": "execute_result",
          "data": {
            "text/plain": [
              "{'name': 'John', 'age': 25, 'country': 'USA'}"
            ]
          },
          "metadata": {},
          "execution_count": 34
        }
      ]
    },
    {
      "cell_type": "code",
      "source": [
        "#23 Write a code to access the value associated with the key \"name\" in the dictionary {'name': 'Alice', 'age': 30}\n",
        "info3 = {'name': 'Alice', 'age': 30}\n",
        "info3[\"name\"]"
      ],
      "metadata": {
        "colab": {
          "base_uri": "https://localhost:8080/",
          "height": 35
        },
        "id": "nsWD5i2Dfz0D",
        "outputId": "27121d5a-0623-4db0-d850-69ef0e71b5fd"
      },
      "execution_count": 35,
      "outputs": [
        {
          "output_type": "execute_result",
          "data": {
            "text/plain": [
              "'Alice'"
            ],
            "application/vnd.google.colaboratory.intrinsic+json": {
              "type": "string"
            }
          },
          "metadata": {},
          "execution_count": 35
        }
      ]
    },
    {
      "cell_type": "code",
      "source": [
        "#24  Write a code to remove the key \"age\" from the dictionary {'name': 'Bob', 'age': 22, 'city': 'New York'}\n",
        "info4 = {'name': 'Bob', 'age': 22, 'city': 'New York'}\n",
        "info4.pop(\"age\")"
      ],
      "metadata": {
        "colab": {
          "base_uri": "https://localhost:8080/"
        },
        "id": "I0S2ZXWjgy0W",
        "outputId": "2430ac47-82ed-4b02-a379-3bc714d601d6"
      },
      "execution_count": 36,
      "outputs": [
        {
          "output_type": "execute_result",
          "data": {
            "text/plain": [
              "22"
            ]
          },
          "metadata": {},
          "execution_count": 36
        }
      ]
    },
    {
      "cell_type": "code",
      "source": [
        "info4"
      ],
      "metadata": {
        "colab": {
          "base_uri": "https://localhost:8080/"
        },
        "id": "57S_6xjPhLlp",
        "outputId": "ad57274b-c4c8-443c-fdda-1c13adfc343c"
      },
      "execution_count": 37,
      "outputs": [
        {
          "output_type": "execute_result",
          "data": {
            "text/plain": [
              "{'name': 'Bob', 'city': 'New York'}"
            ]
          },
          "metadata": {},
          "execution_count": 37
        }
      ]
    },
    {
      "cell_type": "code",
      "source": [
        "#25  Write a code to check if the key \"city\" exists in the dictionary {'name': 'Alice', 'city': 'Paris'}\n",
        "set2 = {'name': 'Alice', 'city': 'Paris'}"
      ],
      "metadata": {
        "id": "6zcKkA6YhW1j"
      },
      "execution_count": 38,
      "outputs": []
    },
    {
      "cell_type": "code",
      "source": [
        "if \"city\" in set2:\n",
        "  print(\"city exist\")\n",
        "else:\n",
        "  print(\"city not exist\")"
      ],
      "metadata": {
        "colab": {
          "base_uri": "https://localhost:8080/"
        },
        "id": "L4T9vAFJhnSC",
        "outputId": "78b16149-60fc-46ac-c082-4a89e69566ae"
      },
      "execution_count": 39,
      "outputs": [
        {
          "output_type": "stream",
          "name": "stdout",
          "text": [
            "city exist\n"
          ]
        }
      ]
    },
    {
      "cell_type": "code",
      "source": [
        "#26 Write a code to create a list, a tuple, and a dictionary, and print them all\n",
        "list1 = [1, 2, \"anand\", \"apple\"]\n",
        "tuple1 = (3, 4, 5, \"contact\")\n",
        "dict1 = {\"name\":\"allsion\", \"age\":25, \"contact\":12345}\n",
        "print(\"list:\", list1, \"tuple:\", tuple1, \"dict:\", dict1)"
      ],
      "metadata": {
        "colab": {
          "base_uri": "https://localhost:8080/"
        },
        "id": "aogObC6AiwVe",
        "outputId": "7d644256-f8db-464c-de41-5412eddbf53a"
      },
      "execution_count": 40,
      "outputs": [
        {
          "output_type": "stream",
          "name": "stdout",
          "text": [
            "list: [1, 2, 'anand', 'apple'] tuple: (3, 4, 5, 'contact') dict: {'name': 'allsion', 'age': 25, 'contact': 12345}\n"
          ]
        }
      ]
    },
    {
      "cell_type": "code",
      "source": [
        "#27 Write a code to create a list of 5 random numbers between 1 and 100, sort it in ascending order, and print the result.(replaced)\n",
        "list1 = [40, 30, 80, 90, 85]\n",
        "list1.sort()\n",
        "list1"
      ],
      "metadata": {
        "colab": {
          "base_uri": "https://localhost:8080/"
        },
        "id": "m-y46_Ffjfb6",
        "outputId": "7779cddb-c35d-45de-f185-d5fe5a8c63dd"
      },
      "execution_count": 41,
      "outputs": [
        {
          "output_type": "execute_result",
          "data": {
            "text/plain": [
              "[30, 40, 80, 85, 90]"
            ]
          },
          "metadata": {},
          "execution_count": 41
        }
      ]
    },
    {
      "cell_type": "code",
      "source": [
        "#28 Write a code to create a list with strings and print the element at the third index\n",
        "list2 = ['anand', 'guava', 'apple', 'grocery', 'mango']\n",
        "list2[3]"
      ],
      "metadata": {
        "colab": {
          "base_uri": "https://localhost:8080/",
          "height": 35
        },
        "id": "wEQU1lJUkqdH",
        "outputId": "e5cc8748-11cc-4cbd-90df-110390ff4e2a"
      },
      "execution_count": 42,
      "outputs": [
        {
          "output_type": "execute_result",
          "data": {
            "text/plain": [
              "'grocery'"
            ],
            "application/vnd.google.colaboratory.intrinsic+json": {
              "type": "string"
            }
          },
          "metadata": {},
          "execution_count": 42
        }
      ]
    },
    {
      "cell_type": "code",
      "source": [
        "#29 Write a code to combine two dictionaries into one and print the result.\n",
        "dict1 = {\"name\":\"anand\", \"age\":23, \"city\":\"udaipur\"}\n",
        "dict2 = {\"contact\": 87654321, \"email\":\"asdfg@gmail.com\"}\n",
        "dict3 = {**dict1, **dict2}\n",
        "print(dict3)"
      ],
      "metadata": {
        "colab": {
          "base_uri": "https://localhost:8080/"
        },
        "id": "KaM6jCa8lUrL",
        "outputId": "8a56d666-93de-4545-b213-6f85c5b03fd9"
      },
      "execution_count": 43,
      "outputs": [
        {
          "output_type": "stream",
          "name": "stdout",
          "text": [
            "{'name': 'anand', 'age': 23, 'city': 'udaipur', 'contact': 87654321, 'email': 'asdfg@gmail.com'}\n"
          ]
        }
      ]
    },
    {
      "cell_type": "code",
      "source": [
        "#30 Write a code to convert a list of strings into a set\n",
        "list1 = ['apple', 'banana', 'guava', 'watermelon']"
      ],
      "metadata": {
        "id": "zCc-5qwnDs_W"
      },
      "execution_count": 44,
      "outputs": []
    },
    {
      "cell_type": "code",
      "source": [
        "s = set(list1)"
      ],
      "metadata": {
        "id": "Mqjp_ubvE9LS"
      },
      "execution_count": 45,
      "outputs": []
    },
    {
      "cell_type": "code",
      "source": [
        "s"
      ],
      "metadata": {
        "colab": {
          "base_uri": "https://localhost:8080/"
        },
        "id": "TpDtAGiFGID7",
        "outputId": "aefad86d-bccc-4ec1-88f8-b4a696acd443"
      },
      "execution_count": 46,
      "outputs": [
        {
          "output_type": "execute_result",
          "data": {
            "text/plain": [
              "{'apple', 'banana', 'guava', 'watermelon'}"
            ]
          },
          "metadata": {},
          "execution_count": 46
        }
      ]
    },
    {
      "cell_type": "code",
      "source": [],
      "metadata": {
        "id": "Ace8Jfy9GIrg"
      },
      "execution_count": 46,
      "outputs": []
    }
  ]
}